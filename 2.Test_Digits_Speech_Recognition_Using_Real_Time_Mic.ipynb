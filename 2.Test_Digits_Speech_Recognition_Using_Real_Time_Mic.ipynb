{
  "nbformat": 4,
  "nbformat_minor": 0,
  "metadata": {
    "colab": {
      "provenance": []
    },
    "kernelspec": {
      "name": "python3",
      "display_name": "Python 3"
    },
    "language_info": {
      "name": "python"
    }
  },
  "cells": [
    {
      "cell_type": "code",
      "source": [
        "!pip install pyaudio sounddevice"
      ],
      "metadata": {
        "id": "-RTjo6j9O8qq"
      },
      "execution_count": null,
      "outputs": []
    },
    {
      "cell_type": "code",
      "source": [
        "import sounddevice as sd\n",
        "import numpy as np\n",
        "import librosa\n",
        "from tensorflow.keras.models import load_model"
      ],
      "metadata": {
        "id": "P77zjDheN-J1"
      },
      "execution_count": null,
      "outputs": []
    },
    {
      "cell_type": "code",
      "source": [
        "from google.colab import drive\n",
        "drive.mount('/content/drive')"
      ],
      "metadata": {
        "id": "sBjbB1guN-sQ"
      },
      "execution_count": null,
      "outputs": []
    },
    {
      "cell_type": "code",
      "source": [
        "# Path to the saved model\n",
        "model_path = '/content/drive/My Drive/audio_classification_model.h5'\n",
        "\n",
        "# Load the model\n",
        "model = load_model(model_path)"
      ],
      "metadata": {
        "id": "VL3CGixYOEKg"
      },
      "execution_count": null,
      "outputs": []
    },
    {
      "cell_type": "code",
      "source": [
        "# Function to preprocess audio data\n",
        "def preprocess_audio(audio_data, sample_rate):\n",
        "    mfccs = librosa.feature.mfcc(y=audio_data, sr=sample_rate, n_mfcc=40)\n",
        "    mfccs = np.expand_dims(mfccs, axis=-1)\n",
        "    mfccs = np.expand_dims(mfccs, axis=0)  # Add batch dimension\n",
        "    return mfccs"
      ],
      "metadata": {
        "id": "NZOSHox5OG6X"
      },
      "execution_count": null,
      "outputs": []
    },
    {
      "cell_type": "code",
      "source": [
        "# Define audio parameters\n",
        "duration = 5  # Duration of audio recording in seconds\n",
        "sample_rate = 44100  # Sampling rate"
      ],
      "metadata": {
        "id": "yZ4Z0SZ8OKdy"
      },
      "execution_count": null,
      "outputs": []
    },
    {
      "cell_type": "code",
      "source": [
        "# Record audio from the microphone\n",
        "print(\"Recording...\")\n",
        "audio_data = sd.rec(int(duration * sample_rate), samplerate=sample_rate, channels=1, dtype='float32')\n",
        "sd.wait()  # Wait for recording to finish\n",
        "print(\"Recording finished\")"
      ],
      "metadata": {
        "id": "QVPXHrBvONZY"
      },
      "execution_count": null,
      "outputs": []
    },
    {
      "cell_type": "code",
      "source": [
        "# Preprocess the recorded audio\n",
        "mfccs = preprocess_audio(np.squeeze(audio_data), sample_rate)\n",
        "\n",
        "# Make predictions\n",
        "predictions = model.predict(mfccs)"
      ],
      "metadata": {
        "id": "1ZUWkeGmPW9Z"
      },
      "execution_count": null,
      "outputs": []
    },
    {
      "cell_type": "code",
      "source": [
        "# Get the predicted digit\n",
        "predicted_digit = np.argmax(predictions)\n",
        "\n",
        "print(\"Predicted digit:\", predicted_digit)"
      ],
      "metadata": {
        "id": "m0NzuSBNOPf-"
      },
      "execution_count": null,
      "outputs": []
    }
  ]
}