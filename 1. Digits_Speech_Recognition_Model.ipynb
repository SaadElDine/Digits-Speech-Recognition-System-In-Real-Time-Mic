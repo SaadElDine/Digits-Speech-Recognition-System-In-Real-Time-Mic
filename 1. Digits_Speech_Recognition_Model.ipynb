{
  "metadata": {
    "kernelspec": {
      "language": "python",
      "display_name": "Python 3",
      "name": "python3"
    },
    "language_info": {
      "name": "python",
      "version": "3.10.13",
      "mimetype": "text/x-python",
      "codemirror_mode": {
        "name": "ipython",
        "version": 3
      },
      "pygments_lexer": "ipython3",
      "nbconvert_exporter": "python",
      "file_extension": ".py"
    },
    "kaggle": {
      "accelerator": "nvidiaTeslaT4",
      "dataSources": [
        {
          "sourceId": 4712,
          "sourceType": "datasetVersion",
          "datasetId": 2749
        }
      ],
      "dockerImageVersionId": 30699,
      "isInternetEnabled": true,
      "language": "python",
      "sourceType": "notebook",
      "isGpuEnabled": true
    },
    "colab": {
      "provenance": []
    }
  },
  "nbformat_minor": 0,
  "nbformat": 4,
  "cells": [
    {
      "cell_type": "code",
      "source": [
        "import os\n",
        "import pathlib\n",
        "import librosa\n",
        "import seaborn\n",
        "import numpy as np\n",
        "import tensorflow as tf\n",
        "from IPython import display\n",
        "import matplotlib.pyplot as plt\n",
        "from tensorflow.keras import layers\n",
        "from tensorflow.keras import models\n",
        "from sklearn.preprocessing import LabelEncoder\n",
        "from sklearn.model_selection import train_test_split"
      ],
      "metadata": {
        "execution": {
          "iopub.status.busy": "2024-04-21T04:52:00.480216Z",
          "iopub.execute_input": "2024-04-21T04:52:00.480626Z",
          "iopub.status.idle": "2024-04-21T04:52:06.536597Z",
          "shell.execute_reply.started": "2024-04-21T04:52:00.480589Z",
          "shell.execute_reply": "2024-04-21T04:52:06.535577Z"
        },
        "trusted": true,
        "id": "VlToHZbI2oIi"
      },
      "execution_count": 1,
      "outputs": []
    },
    {
      "cell_type": "code",
      "source": [
        "from google.colab import drive\n",
        "drive.mount('/content/drive')"
      ],
      "metadata": {
        "colab": {
          "base_uri": "https://localhost:8080/"
        },
        "id": "PxTmTWJtI47m",
        "outputId": "7e05eb1e-9db3-416c-c6c6-0f310ea1ce20"
      },
      "execution_count": 2,
      "outputs": [
        {
          "output_type": "stream",
          "name": "stdout",
          "text": [
            "Drive already mounted at /content/drive; to attempt to forcibly remount, call drive.mount(\"/content/drive\", force_remount=True).\n"
          ]
        }
      ]
    },
    {
      "cell_type": "code",
      "source": [
        "extract_dir = '/content/drive/MyDrive/data0-9'\n",
        "# List the extracted files and folders\n",
        "extracted_files = os.listdir(extract_dir)\n",
        "print(\"Extracted files and folders:\")\n",
        "print(len(extracted_files))"
      ],
      "metadata": {
        "execution": {
          "iopub.status.busy": "2024-04-21T05:31:12.974396Z",
          "iopub.execute_input": "2024-04-21T05:31:12.975255Z",
          "iopub.status.idle": "2024-04-21T05:31:12.989439Z",
          "shell.execute_reply.started": "2024-04-21T05:31:12.975207Z",
          "shell.execute_reply": "2024-04-21T05:31:12.988582Z"
        },
        "trusted": true,
        "colab": {
          "base_uri": "https://localhost:8080/"
        },
        "id": "J7xYwJZn2oIk",
        "outputId": "948ac789-94a5-4807-fd4f-cdfdbfcf95d5"
      },
      "execution_count": 3,
      "outputs": [
        {
          "output_type": "stream",
          "name": "stdout",
          "text": [
            "Extracted files and folders:\n",
            "10\n"
          ]
        }
      ]
    },
    {
      "cell_type": "code",
      "source": [
        "# List to store MFCCs for all digits\n",
        "all_mfccs = []\n",
        "labels = []\n",
        "\n",
        "# Loop through all folders (digits) in the dataset directory\n",
        "for digit_folder in os.listdir(extract_dir):\n",
        "    digit_folder_path = os.path.join(extract_dir, digit_folder)\n",
        "\n",
        "    # Loop through all files (audio samples) in the digit folder\n",
        "    for file_name in os.listdir(digit_folder_path):\n",
        "        # Check if the file is a WAV file\n",
        "        if file_name.endswith(\".wav\"):\n",
        "            # Construct the full path to the audio file\n",
        "            audio_file_path = os.path.join(digit_folder_path, file_name)\n",
        "\n",
        "            # Load the audio file using Librosa\n",
        "            audio_data, sample_rate = librosa.load(audio_file_path)\n",
        "\n",
        "            # Compute MFCCs for the audio file\n",
        "            mfccs = librosa.feature.mfcc(y=audio_data, sr=sample_rate, n_mfcc=40)\n",
        "\n",
        "            # Append MFCCs to the list\n",
        "            all_mfccs.append(mfccs)\n",
        "            labels.append(int(digit_folder))  # Use the folder name as the digit label\n"
      ],
      "metadata": {
        "execution": {
          "iopub.status.busy": "2024-04-21T05:31:18.178745Z",
          "iopub.execute_input": "2024-04-21T05:31:18.179100Z",
          "iopub.status.idle": "2024-04-21T05:31:18.712625Z",
          "shell.execute_reply.started": "2024-04-21T05:31:18.179072Z",
          "shell.execute_reply": "2024-04-21T05:31:18.711717Z"
        },
        "trusted": true,
        "id": "DiRlKc7j2oIl"
      },
      "execution_count": 5,
      "outputs": []
    },
    {
      "cell_type": "code",
      "source": [
        "# Calculate the maximum length of MFCCs\n",
        "max_length = max(len(mfcc[0]) for mfcc in all_mfccs)\n",
        "\n",
        "# Pad or trim each MFCC to the maximum length\n",
        "all_mfccs_padded = []\n",
        "for mfcc in all_mfccs:\n",
        "    num_columns = mfcc.shape[1]\n",
        "    if num_columns < max_length:\n",
        "        # Pad with zeros\n",
        "        pad_width = max_length - num_columns\n",
        "        padded_mfcc = np.pad(mfcc, ((0, 0), (0, pad_width)), mode='constant')\n",
        "    else:\n",
        "        # Trim to max_length\n",
        "        padded_mfcc = mfcc[:, :max_length]\n",
        "    all_mfccs_padded.append(padded_mfcc)\n",
        "\n",
        "# Convert the list to a NumPy array\n",
        "all_mfccs = np.array(all_mfccs_padded)\n",
        "labels = np.array(labels)\n",
        "\n",
        "print(all_mfccs.shape)\n"
      ],
      "metadata": {
        "colab": {
          "base_uri": "https://localhost:8080/"
        },
        "id": "SxGbi6EJJ9Vj",
        "outputId": "f7d0342c-a4de-4f10-e3fc-987991859036"
      },
      "execution_count": 35,
      "outputs": [
        {
          "output_type": "stream",
          "name": "stdout",
          "text": [
            "(23678, 40, 44)\n"
          ]
        }
      ]
    },
    {
      "cell_type": "code",
      "source": [
        "### Split the dataset into independent and dependent dataset\n",
        "X = all_mfccs\n",
        "y = labels"
      ],
      "metadata": {
        "id": "YbRrsgrNK8Xv"
      },
      "execution_count": 36,
      "outputs": []
    },
    {
      "cell_type": "code",
      "source": [
        "# Initialize LabelEncoder\n",
        "label_encoder = LabelEncoder()\n",
        "\n",
        "# Assuming y is your 1D array containing class labels\n",
        "y_encoded = label_encoder.fit_transform(y)\n",
        "\n",
        "print(y_encoded)"
      ],
      "metadata": {
        "colab": {
          "base_uri": "https://localhost:8080/"
        },
        "id": "XBa2mIMQLACp",
        "outputId": "a6788edb-7574-4002-8a08-26fc3e495851"
      },
      "execution_count": 37,
      "outputs": [
        {
          "output_type": "stream",
          "name": "stdout",
          "text": [
            "[0 0 0 ... 9 9 9]\n"
          ]
        }
      ]
    },
    {
      "cell_type": "code",
      "source": [
        "np.save('/content/drive/My Drive/X.npy', X)\n",
        "np.save('/content/drive/My Drive/y_encoded.npy', y_encoded)"
      ],
      "metadata": {
        "id": "GDWIU_2ZKftq"
      },
      "execution_count": 38,
      "outputs": []
    },
    {
      "cell_type": "code",
      "source": [
        "# Load X and y_encoded\n",
        "X = np.load('/content/drive/My Drive/X.npy')\n",
        "y_encoded = np.load('/content/drive/My Drive/y_encoded.npy')"
      ],
      "metadata": {
        "id": "iO9g8KLcKqN-"
      },
      "execution_count": 39,
      "outputs": []
    },
    {
      "cell_type": "code",
      "source": [
        "# Shuffle the dataset\n",
        "X_train, X_test, y_train, y_test = train_test_split(X, y, test_size=0.2, random_state=42, shuffle=True)\n",
        "\n",
        "print(\"X_train shape:\", X_train.shape)\n",
        "print(\"y_train shape:\", y_train.shape)\n",
        "print(\"X_test shape:\", X_test.shape)\n",
        "print(\"y_test shape:\", y_test.shape)"
      ],
      "metadata": {
        "colab": {
          "base_uri": "https://localhost:8080/"
        },
        "id": "hVextIlQLC72",
        "outputId": "65f28945-862b-453b-ef44-733cdf578d5c"
      },
      "execution_count": 40,
      "outputs": [
        {
          "output_type": "stream",
          "name": "stdout",
          "text": [
            "X_train shape: (18942, 40, 44)\n",
            "y_train shape: (18942,)\n",
            "X_test shape: (4736, 40, 44)\n",
            "y_test shape: (4736,)\n"
          ]
        }
      ]
    },
    {
      "cell_type": "code",
      "source": [
        "# Reshape the data to match the model's input shape\n",
        "X_train = np.reshape(X_train, (X_train.shape[0], X_train.shape[1], X_train.shape[2], 1))\n",
        "X_test = np.reshape(X_test, (X_test.shape[0], X_test.shape[1], X_test.shape[2], 1))\n",
        "print(\"X_train shape:\", X_train.shape)\n",
        "print(\"X_test shape:\", X_test.shape)"
      ],
      "metadata": {
        "execution": {
          "iopub.status.busy": "2024-04-21T06:03:36.869006Z",
          "iopub.execute_input": "2024-04-21T06:03:36.869932Z",
          "iopub.status.idle": "2024-04-21T06:03:36.874728Z",
          "shell.execute_reply.started": "2024-04-21T06:03:36.869898Z",
          "shell.execute_reply": "2024-04-21T06:03:36.873744Z"
        },
        "trusted": true,
        "colab": {
          "base_uri": "https://localhost:8080/"
        },
        "id": "aHEJMLyO2oI1",
        "outputId": "90f9ffde-503a-4b09-a91c-5a70fdb56865"
      },
      "execution_count": 44,
      "outputs": [
        {
          "output_type": "stream",
          "name": "stdout",
          "text": [
            "X_train shape: (18942, 40, 44, 1)\n",
            "X_test shape: (4736, 40, 44, 1)\n"
          ]
        }
      ]
    },
    {
      "cell_type": "code",
      "source": [
        "from tensorflow.keras.models import Sequential\n",
        "from tensorflow.keras import layers\n",
        "\n",
        "# Adjusted input shape for MFCCs\n",
        "INPUTSHAPE = (40, 44, 1)\n",
        "\n",
        "model = Sequential([\n",
        "    layers.Reshape(INPUTSHAPE, input_shape=(40, 44, 1)),  # Adjust input shape\n",
        "    layers.Conv2D(128, (2, 2), activation='relu', padding='same'),\n",
        "    layers.BatchNormalization(),\n",
        "    layers.MaxPooling2D(2, padding='same'),\n",
        "    layers.Conv2D(128, (2, 2), activation='relu', padding='same'),\n",
        "    layers.BatchNormalization(),\n",
        "    layers.MaxPooling2D(2, padding='same'),\n",
        "    layers.Dropout(0.3),\n",
        "    layers.Conv2D(128, (2, 2), activation='relu', padding='same'),\n",
        "    layers.BatchNormalization(),\n",
        "    layers.MaxPooling2D(2, padding='same'),\n",
        "    layers.Dropout(0.3),\n",
        "    layers.GlobalAveragePooling2D(),\n",
        "    layers.Flatten(),\n",
        "    layers.Dense(512, activation='relu'),\n",
        "    layers.BatchNormalization(),\n",
        "    layers.Dense(256, activation='relu'),\n",
        "    layers.Dense(128, activation='relu'),\n",
        "    layers.Dense(64, activation='relu'),\n",
        "    layers.Dense(32, activation='relu'),\n",
        "    layers.Dense(16, activation='relu'),\n",
        "    layers.Dense(10, activation='softmax')\n",
        "])\n",
        "\n",
        "# Compile the model\n",
        "model.compile(loss='sparse_categorical_crossentropy', optimizer='adam', metrics=['acc'])\n",
        "model.summary()"
      ],
      "metadata": {
        "execution": {
          "iopub.status.busy": "2024-04-21T06:05:17.604151Z",
          "iopub.execute_input": "2024-04-21T06:05:17.605021Z",
          "iopub.status.idle": "2024-04-21T06:05:17.758448Z",
          "shell.execute_reply.started": "2024-04-21T06:05:17.604988Z",
          "shell.execute_reply": "2024-04-21T06:05:17.757494Z"
        },
        "trusted": true,
        "colab": {
          "base_uri": "https://localhost:8080/"
        },
        "id": "agFxDkCs2oI3",
        "outputId": "ff764cc6-46ab-4a88-9d83-c0e9ca0e14e1"
      },
      "execution_count": 45,
      "outputs": [
        {
          "output_type": "stream",
          "name": "stdout",
          "text": [
            "Model: \"sequential_3\"\n",
            "_________________________________________________________________\n",
            " Layer (type)                Output Shape              Param #   \n",
            "=================================================================\n",
            " reshape_3 (Reshape)         (None, 40, 44, 1)         0         \n",
            "                                                                 \n",
            " conv2d_9 (Conv2D)           (None, 40, 44, 128)       640       \n",
            "                                                                 \n",
            " batch_normalization_12 (Ba  (None, 40, 44, 128)       512       \n",
            " tchNormalization)                                               \n",
            "                                                                 \n",
            " max_pooling2d_9 (MaxPoolin  (None, 20, 22, 128)       0         \n",
            " g2D)                                                            \n",
            "                                                                 \n",
            " conv2d_10 (Conv2D)          (None, 20, 22, 128)       65664     \n",
            "                                                                 \n",
            " batch_normalization_13 (Ba  (None, 20, 22, 128)       512       \n",
            " tchNormalization)                                               \n",
            "                                                                 \n",
            " max_pooling2d_10 (MaxPooli  (None, 10, 11, 128)       0         \n",
            " ng2D)                                                           \n",
            "                                                                 \n",
            " dropout_6 (Dropout)         (None, 10, 11, 128)       0         \n",
            "                                                                 \n",
            " conv2d_11 (Conv2D)          (None, 10, 11, 128)       65664     \n",
            "                                                                 \n",
            " batch_normalization_14 (Ba  (None, 10, 11, 128)       512       \n",
            " tchNormalization)                                               \n",
            "                                                                 \n",
            " max_pooling2d_11 (MaxPooli  (None, 5, 6, 128)         0         \n",
            " ng2D)                                                           \n",
            "                                                                 \n",
            " dropout_7 (Dropout)         (None, 5, 6, 128)         0         \n",
            "                                                                 \n",
            " global_average_pooling2d_3  (None, 128)               0         \n",
            "  (GlobalAveragePooling2D)                                       \n",
            "                                                                 \n",
            " flatten_3 (Flatten)         (None, 128)               0         \n",
            "                                                                 \n",
            " dense_21 (Dense)            (None, 512)               66048     \n",
            "                                                                 \n",
            " batch_normalization_15 (Ba  (None, 512)               2048      \n",
            " tchNormalization)                                               \n",
            "                                                                 \n",
            " dense_22 (Dense)            (None, 256)               131328    \n",
            "                                                                 \n",
            " dense_23 (Dense)            (None, 128)               32896     \n",
            "                                                                 \n",
            " dense_24 (Dense)            (None, 64)                8256      \n",
            "                                                                 \n",
            " dense_25 (Dense)            (None, 32)                2080      \n",
            "                                                                 \n",
            " dense_26 (Dense)            (None, 16)                528       \n",
            "                                                                 \n",
            " dense_27 (Dense)            (None, 10)                170       \n",
            "                                                                 \n",
            "=================================================================\n",
            "Total params: 376858 (1.44 MB)\n",
            "Trainable params: 375066 (1.43 MB)\n",
            "Non-trainable params: 1792 (7.00 KB)\n",
            "_________________________________________________________________\n"
          ]
        }
      ]
    },
    {
      "cell_type": "code",
      "source": [
        "batch_size = 16\n",
        "callback = tf.keras.callbacks.EarlyStopping(\n",
        "    monitor='val_loss', min_delta=0, patience=8, verbose=0, mode='auto',\n",
        "    baseline=None, restore_best_weights=False)\n",
        "\n",
        "history = model.fit(X_train,y_train ,validation_data=(X_test,y_test),\n",
        "            epochs=40,\n",
        "            callbacks = [callback],batch_size=batch_size)"
      ],
      "metadata": {
        "execution": {
          "iopub.status.busy": "2024-04-21T06:05:23.819099Z",
          "iopub.execute_input": "2024-04-21T06:05:23.819948Z",
          "iopub.status.idle": "2024-04-21T06:05:46.672483Z",
          "shell.execute_reply.started": "2024-04-21T06:05:23.819916Z",
          "shell.execute_reply": "2024-04-21T06:05:46.671470Z"
        },
        "trusted": true,
        "colab": {
          "base_uri": "https://localhost:8080/"
        },
        "id": "9df7f4N22oI3",
        "outputId": "7bf9bcdd-d146-448b-ed0b-e1c36045afb8"
      },
      "execution_count": 46,
      "outputs": [
        {
          "output_type": "stream",
          "name": "stdout",
          "text": [
            "Epoch 1/40\n",
            "1184/1184 [==============================] - 250s 207ms/step - loss: 1.3713 - acc: 0.5116 - val_loss: 0.6420 - val_acc: 0.7977\n",
            "Epoch 2/40\n",
            "1184/1184 [==============================] - 249s 210ms/step - loss: 0.6695 - acc: 0.7854 - val_loss: 0.3649 - val_acc: 0.8864\n",
            "Epoch 3/40\n",
            "1184/1184 [==============================] - 244s 206ms/step - loss: 0.4907 - acc: 0.8475 - val_loss: 0.2907 - val_acc: 0.9084\n",
            "Epoch 4/40\n",
            "1184/1184 [==============================] - 234s 198ms/step - loss: 0.4168 - acc: 0.8699 - val_loss: 0.2508 - val_acc: 0.9200\n",
            "Epoch 5/40\n",
            "1184/1184 [==============================] - 244s 206ms/step - loss: 0.3746 - acc: 0.8823 - val_loss: 0.2189 - val_acc: 0.9267\n",
            "Epoch 6/40\n",
            "1184/1184 [==============================] - 235s 199ms/step - loss: 0.3430 - acc: 0.8946 - val_loss: 0.2582 - val_acc: 0.9229\n",
            "Epoch 7/40\n",
            "1184/1184 [==============================] - 246s 208ms/step - loss: 0.3207 - acc: 0.9010 - val_loss: 0.2160 - val_acc: 0.9360\n",
            "Epoch 8/40\n",
            "1184/1184 [==============================] - 246s 208ms/step - loss: 0.3054 - acc: 0.9050 - val_loss: 0.1765 - val_acc: 0.9466\n",
            "Epoch 9/40\n",
            "1184/1184 [==============================] - 235s 198ms/step - loss: 0.2863 - acc: 0.9122 - val_loss: 0.1927 - val_acc: 0.9424\n",
            "Epoch 10/40\n",
            "1184/1184 [==============================] - 236s 199ms/step - loss: 0.2622 - acc: 0.9193 - val_loss: 0.1717 - val_acc: 0.9459\n",
            "Epoch 11/40\n",
            "1184/1184 [==============================] - 246s 208ms/step - loss: 0.2545 - acc: 0.9196 - val_loss: 0.1752 - val_acc: 0.9453\n",
            "Epoch 12/40\n",
            "1184/1184 [==============================] - 235s 199ms/step - loss: 0.2460 - acc: 0.9222 - val_loss: 0.1738 - val_acc: 0.9457\n",
            "Epoch 13/40\n",
            "1184/1184 [==============================] - 246s 208ms/step - loss: 0.2460 - acc: 0.9231 - val_loss: 0.1476 - val_acc: 0.9519\n",
            "Epoch 14/40\n",
            "1184/1184 [==============================] - 236s 199ms/step - loss: 0.2337 - acc: 0.9277 - val_loss: 0.1622 - val_acc: 0.9478\n",
            "Epoch 15/40\n",
            "1184/1184 [==============================] - 237s 200ms/step - loss: 0.2403 - acc: 0.9244 - val_loss: 0.1500 - val_acc: 0.9538\n",
            "Epoch 16/40\n",
            "1184/1184 [==============================] - 236s 199ms/step - loss: 0.2158 - acc: 0.9326 - val_loss: 0.1405 - val_acc: 0.9535\n",
            "Epoch 17/40\n",
            "1184/1184 [==============================] - 235s 199ms/step - loss: 0.2160 - acc: 0.9333 - val_loss: 0.1537 - val_acc: 0.9508\n",
            "Epoch 18/40\n",
            "1184/1184 [==============================] - 244s 206ms/step - loss: 0.2091 - acc: 0.9337 - val_loss: 0.1511 - val_acc: 0.9521\n",
            "Epoch 19/40\n",
            "1184/1184 [==============================] - 245s 207ms/step - loss: 0.2049 - acc: 0.9364 - val_loss: 0.1491 - val_acc: 0.9514\n",
            "Epoch 20/40\n",
            "1184/1184 [==============================] - 234s 198ms/step - loss: 0.1969 - acc: 0.9397 - val_loss: 0.1293 - val_acc: 0.9588\n",
            "Epoch 21/40\n",
            "1184/1184 [==============================] - 238s 201ms/step - loss: 0.1949 - acc: 0.9391 - val_loss: 0.1618 - val_acc: 0.9489\n",
            "Epoch 22/40\n",
            "1184/1184 [==============================] - 244s 206ms/step - loss: 0.1891 - acc: 0.9395 - val_loss: 0.1391 - val_acc: 0.9554\n",
            "Epoch 23/40\n",
            "1184/1184 [==============================] - 248s 210ms/step - loss: 0.1894 - acc: 0.9380 - val_loss: 0.1389 - val_acc: 0.9561\n",
            "Epoch 24/40\n",
            "1184/1184 [==============================] - 244s 206ms/step - loss: 0.1887 - acc: 0.9409 - val_loss: 0.1402 - val_acc: 0.9548\n",
            "Epoch 25/40\n",
            "1184/1184 [==============================] - 234s 198ms/step - loss: 0.1805 - acc: 0.9457 - val_loss: 0.1448 - val_acc: 0.9521\n",
            "Epoch 26/40\n",
            "1184/1184 [==============================] - 234s 198ms/step - loss: 0.1740 - acc: 0.9446 - val_loss: 0.1285 - val_acc: 0.9544\n",
            "Epoch 27/40\n",
            "1184/1184 [==============================] - 236s 199ms/step - loss: 0.1758 - acc: 0.9435 - val_loss: 0.1195 - val_acc: 0.9605\n",
            "Epoch 28/40\n",
            "1184/1184 [==============================] - 235s 198ms/step - loss: 0.1669 - acc: 0.9463 - val_loss: 0.1139 - val_acc: 0.9637\n",
            "Epoch 29/40\n",
            "1184/1184 [==============================] - 237s 200ms/step - loss: 0.1717 - acc: 0.9443 - val_loss: 0.1199 - val_acc: 0.9603\n",
            "Epoch 30/40\n",
            "1184/1184 [==============================] - 236s 199ms/step - loss: 0.1707 - acc: 0.9462 - val_loss: 0.1322 - val_acc: 0.9578\n",
            "Epoch 31/40\n",
            "1184/1184 [==============================] - 245s 207ms/step - loss: 0.1632 - acc: 0.9469 - val_loss: 0.1262 - val_acc: 0.9614\n",
            "Epoch 32/40\n",
            "1184/1184 [==============================] - 244s 206ms/step - loss: 0.1593 - acc: 0.9492 - val_loss: 0.1204 - val_acc: 0.9603\n",
            "Epoch 33/40\n",
            "1184/1184 [==============================] - 239s 202ms/step - loss: 0.1575 - acc: 0.9497 - val_loss: 0.1212 - val_acc: 0.9616\n",
            "Epoch 34/40\n",
            "1184/1184 [==============================] - 248s 210ms/step - loss: 0.1609 - acc: 0.9488 - val_loss: 0.1145 - val_acc: 0.9616\n",
            "Epoch 35/40\n",
            "1184/1184 [==============================] - 239s 202ms/step - loss: 0.1573 - acc: 0.9491 - val_loss: 0.1335 - val_acc: 0.9571\n",
            "Epoch 36/40\n",
            "1184/1184 [==============================] - 238s 201ms/step - loss: 0.1549 - acc: 0.9507 - val_loss: 0.1180 - val_acc: 0.9620\n"
          ]
        }
      ]
    },
    {
      "cell_type": "code",
      "source": [
        "# Assuming you have a test set X_test and y_test\n",
        "# Evaluate the model on the test set\n",
        "loss, acc = model.evaluate(X_test, y_test)\n",
        "print(\"Test accuracy:\", acc)"
      ],
      "metadata": {
        "colab": {
          "base_uri": "https://localhost:8080/"
        },
        "id": "DQ0YG-oDNdq9",
        "outputId": "8b70e0e7-6d48-43cd-ad85-838b0a56f01c"
      },
      "execution_count": 47,
      "outputs": [
        {
          "output_type": "stream",
          "name": "stdout",
          "text": [
            "148/148 [==============================] - 13s 86ms/step - loss: 0.1180 - acc: 0.9620\n",
            "Test accuracy: 0.9619932174682617\n"
          ]
        }
      ]
    },
    {
      "cell_type": "code",
      "source": [
        "# Define the path where you want to save the model\n",
        "model_save_path = '/content/drive/My Drive/audio_classification_model.h5'\n",
        "\n",
        "# Save the model\n",
        "model.save(model_save_path)"
      ],
      "metadata": {
        "colab": {
          "base_uri": "https://localhost:8080/"
        },
        "id": "t1c1KOdxNLyM",
        "outputId": "c0288033-3539-47b3-ef39-bbcfbf7c4a35"
      },
      "execution_count": 48,
      "outputs": [
        {
          "output_type": "stream",
          "name": "stderr",
          "text": [
            "/usr/local/lib/python3.10/dist-packages/keras/src/engine/training.py:3103: UserWarning: You are saving your model as an HDF5 file via `model.save()`. This file format is considered legacy. We recommend using instead the native Keras format, e.g. `model.save('my_model.keras')`.\n",
            "  saving_api.save_model(\n"
          ]
        }
      ]
    }
  ]
}